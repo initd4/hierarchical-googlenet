{
 "cells": [
  {
   "cell_type": "code",
   "execution_count": 1,
   "metadata": {
    "collapsed": true
   },
   "outputs": [],
   "source": [
    "import numpy"
   ]
  },
  {
   "cell_type": "code",
   "execution_count": 2,
   "metadata": {
    "collapsed": false
   },
   "outputs": [
    {
     "name": "stdout",
     "output_type": "stream",
     "text": [
      "\n",
      "Number of level 2 labels : 333\n",
      "\n",
      "Labels : ['abacus' 'acarine' 'african_elephant' 'agaric' 'alcohol' 'altar'\n",
      " 'ambystomid' 'american_black_bear' 'anthozoan' 'ape' 'appliance'\n",
      " 'aquatic_bird' 'armadillo' 'artichoke' 'ashcan' 'attire' 'baby_bed'\n",
      " 'badger' 'bag' 'ballplayer' 'barracouta' 'barrel' 'barrier' 'basket'\n",
      " 'bath_towel' 'bathtub' 'beacon' 'beaver' 'beetle' 'big_cat' 'bird_of_prey'\n",
      " 'black-footed_ferret' 'bolete' 'book_jacket' 'bookcase' 'bottle' 'box'\n",
      " 'box_turtle' 'brassiere' 'bread' 'breathing_device' 'bridge' 'brown_bear'\n",
      " 'bubble' 'bucket' 'building' 'bullet_train' 'bulletproof_vest' 'bullfrog'\n",
      " 'bus' 'cabinet' 'camera' 'cardoon' 'cash_machine' 'cassette' 'castle'\n",
      " 'cat' 'cavy' 'centipede' 'cephalopod' 'ceratopsian' 'chain' 'chiffonier'\n",
      " 'chiton' 'cleaning_implement' 'cliff' 'cloak' 'clog' 'cloth_covering'\n",
      " 'coat' 'cock' 'coffee_mug' 'coil' 'comic_book' 'condiment'\n",
      " 'coraciiform_bird' 'coral_fungus' 'course' 'cowboy_boot' 'craft'\n",
      " 'crock_pot' 'crocodilian_reptile' 'cruciferous_vegetable' 'cuckoo'\n",
      " 'cucumber' 'daisy' 'decapod_crustacean' 'diaper' 'dictyopterous_insect'\n",
      " 'dipterous_insect' 'dish' 'disk_brake' 'dock' 'dog' 'doormat' 'dough'\n",
      " 'dugong' 'dwelling' 'earthstar' 'echidna' 'elasmobranch' 'electric_fan'\n",
      " 'electro-acoustic_transducer' 'electronic_device' 'electronic_equipment'\n",
      " 'entertainment_center' 'envelope' 'espresso' 'european_fire_salamander'\n",
      " 'even-toed_ungulate' 'farm_machine' 'fastener' 'file' 'filter' 'flatworm'\n",
      " 'fountain' 'four-poster' 'fox' 'framework' 'fruit' 'game_bird' 'gastropod'\n",
      " 'gear' 'geyser' 'giant_panda' 'glass' 'gown' 'grocery_store' 'groom'\n",
      " 'guillotine' 'gyromitra' 'hair_spray' 'hamster' 'hard_disc' 'hare'\n",
      " 'harvestman' 'hay' 'headdress' 'heater' 'hen' 'hen-of-the-woods'\n",
      " 'homopterous_insect' 'hosiery' 'hummingbird' 'hyena'\n",
      " 'hymenopterous_insect' 'ice_bear' 'indian_elephant' 'jar' 'jean'\n",
      " 'jellyfish' 'jersey' 'kangaroo' 'ladle' 'lemur' 'lepidopterous_insect'\n",
      " 'lesser_panda' 'lifting_device' 'lighter' 'lizard' 'lotion' 'lumbermill'\n",
      " 'magnetic_compass' 'magnifier' 'makeup' 'malacostracan_crustacean'\n",
      " 'marmot' 'maze' 'measuring_cup' 'measuring_instrument' 'mechanical_device'\n",
      " 'medical_instrument' 'meerkat' 'memorial' 'menu' 'military_uniform'\n",
      " 'milk_can' 'mink' 'mitten' 'mongoose' 'monkey' 'mortar' 'mountain_tent'\n",
      " 'mud_turtle' 'mushroom' 'muzzle' 'natural_elevation' 'necklace' 'necktie'\n",
      " 'nematode' 'neuropteron' 'newt' 'obelisk' 'odd-toed_ungulate' 'odonate'\n",
      " 'optical_instrument' 'orchid' 'orthopterous_insect' 'oscine' 'otter'\n",
      " 'packet' 'paddle' 'paintbrush' 'pajama' 'pan' 'parachute' 'parrot' 'patio'\n",
      " 'pen' 'pencil_sharpener' 'percussion_instrument' 'perfume'\n",
      " 'personal_computer' 'phalanger' 'phasmid' 'photocopier' 'piciform_bird'\n",
      " 'pick' 'piece_of_cloth' 'piggy_bank' 'pillow' 'ping-pong_ball' 'pitcher'\n",
      " 'platypus' 'pole' 'polecat' 'porcupine' 'pot' 'prayer_rug' 'prison'\n",
      " 'protective_covering' 'protective_garment' 'puck' 'punching_bag' 'puzzle'\n",
      " 'rabbit' 'racket' 'radiator' 'radio' 'ratite' 'reflector' 'remote_control'\n",
      " 'reservoir' 'robe' 'rubber_eraser' 'rugby_ball' 'scarf' 'scoreboard'\n",
      " 'scorpion' 'scuba_diver' 'sea_cucumber' 'sea_turtle' 'sea_urchin' 'seal'\n",
      " 'seat' 'seat_belt' 'shaker' 'shoe' 'shoji' 'shop' 'shore' 'ski' 'skirt'\n",
      " 'skunk' 'sled' 'slide_rule' 'slot_machine' 'sloth' 'sloth_bear' 'snake'\n",
      " 'soap_dispenser' 'soccer_ball' 'solanaceous_vegetable'\n",
      " 'source_of_illumination' 'space_bar' 'spatula' 'spider' 'sports_equipment'\n",
      " 'squash' 'squirrel' 'stage' 'starfish' 'stick' 'stinkhorn' 'street_sign'\n",
      " 'stretcher' 'stringed_instrument' 'suit' 'sunglass' 'sunscreen' 'support'\n",
      " 'sweater' 'swimsuit' 'switch' 'table' 'table_lamp' 'tailed_frog' 'teddy'\n",
      " 'teleost_fish' 'television' 'tennis_ball' 'terrapin' 'toilet_tissue'\n",
      " 'tool' 'top' 'totem_pole' 'traffic_light' 'trap' 'tray' 'tree_frog'\n",
      " 'trilobite' 'tub' 'tusker' 'typewriter_keyboard' 'valley' 'velvet'\n",
      " 'volleyball' 'wallet' 'wardrobe' 'washbasin' 'weapon' 'weasel' 'web_site'\n",
      " 'whale' 'wheeled_vehicle' 'whistle' 'wild_dog' 'wind_instrument' 'wing'\n",
      " 'wolf' 'wombat' 'wooden_spoon' 'wool']\n"
     ]
    }
   ],
   "source": [
    "constructed_labels = numpy.loadtxt('../3_level_labels/csv/longest_path/constructed_labels.csv', dtype = 'str', delimiter = ',')\n",
    "\n",
    "level_2_labels = numpy.sort(list(set(constructed_labels[:, 3])))\n",
    "\n",
    "print '\\nNumber of level 2 labels :', len(level_2_labels)\n",
    "print '\\nLabels :', level_2_labels\n",
    "\n",
    "numpy.savetxt('./level_2_labels.txt', level_2_labels, fmt='%s')\n",
    "\n",
    "indexes = range(len(level_2_labels))\n",
    "\n",
    "numpy.savetxt('./level_2_indexes.txt', indexes, fmt='%d')"
   ]
  },
  {
   "cell_type": "code",
   "execution_count": 3,
   "metadata": {
    "collapsed": true
   },
   "outputs": [],
   "source": [
    "node_names_read = numpy.loadtxt('../3_level_labels/csv/longest_path/constructed_node_names.txt', dtype = 'str')\n",
    "\n",
    "node_names = []\n",
    "\n",
    "for i in xrange(len(node_names_read)):\n",
    "    node_names.append(numpy.array(node_names_read[i].split(',')))\n",
    "\n",
    "node_names = numpy.array(node_names)"
   ]
  },
  {
   "cell_type": "code",
   "execution_count": 4,
   "metadata": {
    "collapsed": false
   },
   "outputs": [],
   "source": [
    "names = numpy.loadtxt('/home/jcmaxwell/ilsrvc2015/imagenet2015_onur/names.txt', dtype = 'str')\n",
    "labels = numpy.loadtxt('/home/jcmaxwell/ilsrvc2015/imagenet2015_onur/labels.txt', dtype = 'str')"
   ]
  },
  {
   "cell_type": "code",
   "execution_count": 5,
   "metadata": {
    "collapsed": false
   },
   "outputs": [],
   "source": [
    "level_2_indexes = []\n",
    "\n",
    "for l in level_2_labels:\n",
    "    level_2_indexes.append(set(([i for i in xrange(len(labels)) if any(node_names[i] == l)])))"
   ]
  },
  {
   "cell_type": "code",
   "execution_count": 6,
   "metadata": {
    "collapsed": false
   },
   "outputs": [],
   "source": [
    "train_old = numpy.loadtxt('/home/jcmaxwell/ilsrvc2015/imagenet2015_onur/train/train.txt', dtype = 'str', delimiter = ' ')\n",
    "\n",
    "train_new = []\n",
    "\n",
    "for i in xrange(len(train_old)):\n",
    "    for k in xrange(len(level_2_indexes)):\n",
    "        if int(train_old[i][1]) in level_2_indexes[k]:\n",
    "            train_new.append([train_old[i][0], k])\n",
    "            \n",
    "train_new = numpy.array(train_new)"
   ]
  },
  {
   "cell_type": "code",
   "execution_count": 7,
   "metadata": {
    "collapsed": true
   },
   "outputs": [],
   "source": [
    "f = open('./level_2_train.txt', 'w')\n",
    "\n",
    "for t in train_new:\n",
    "    f.write(t[0] + ' ' + t[1])\n",
    "    f.write('\\n')\n",
    "    \n",
    "f.close()"
   ]
  },
  {
   "cell_type": "code",
   "execution_count": 8,
   "metadata": {
    "collapsed": true
   },
   "outputs": [],
   "source": [
    "val_old = numpy.loadtxt('/home/jcmaxwell/ilsrvc2015/imagenet2015_onur/validation/val.txt', dtype = 'str', delimiter = ' ')\n",
    "\n",
    "val_new = []\n",
    "\n",
    "for i in xrange(len(val_old)):\n",
    "    for k in xrange(len(level_2_indexes)):\n",
    "        if int(val_old[i][1]) in level_2_indexes[k]:\n",
    "            val_new.append([val_old[i][0], k])\n",
    "            \n",
    "val_new = numpy.array(val_new)"
   ]
  },
  {
   "cell_type": "code",
   "execution_count": 9,
   "metadata": {
    "collapsed": true
   },
   "outputs": [],
   "source": [
    "f = open('./level_2_val.txt', 'w')\n",
    "\n",
    "for v in val_new:\n",
    "    f.write(v[0] + ' ' + v[1])\n",
    "    f.write('\\n')\n",
    "    \n",
    "f.close()"
   ]
  },
  {
   "cell_type": "code",
   "execution_count": null,
   "metadata": {
    "collapsed": true
   },
   "outputs": [],
   "source": []
  }
 ],
 "metadata": {
  "kernelspec": {
   "display_name": "Python 2",
   "language": "python",
   "name": "python2"
  },
  "language_info": {
   "codemirror_mode": {
    "name": "ipython",
    "version": 2
   },
   "file_extension": ".py",
   "mimetype": "text/x-python",
   "name": "python",
   "nbconvert_exporter": "python",
   "pygments_lexer": "ipython2",
   "version": "2.7.9"
  }
 },
 "nbformat": 4,
 "nbformat_minor": 0
}
