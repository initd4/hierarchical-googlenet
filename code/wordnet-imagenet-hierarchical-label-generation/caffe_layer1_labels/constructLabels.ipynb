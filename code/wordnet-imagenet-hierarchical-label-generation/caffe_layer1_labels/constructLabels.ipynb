{
 "cells": [
  {
   "cell_type": "code",
   "execution_count": 1,
   "metadata": {
    "collapsed": true
   },
   "outputs": [],
   "source": [
    "import numpy"
   ]
  },
  {
   "cell_type": "code",
   "execution_count": 2,
   "metadata": {
    "collapsed": false
   },
   "outputs": [
    {
     "name": "stdout",
     "output_type": "stream",
     "text": [
      "\n",
      "Number of level 1 labels : 69\n",
      "\n",
      "Labels : ['aquatic_mammal' 'arachnid' 'bear' 'beverage' 'bird' 'bubble' 'canine'\n",
      " 'centipede' 'chain' 'coelenterate' 'comic_book' 'commodity'\n",
      " 'communication_system' 'container' 'covering' 'crustacean' 'decoration'\n",
      " 'device' 'diapsid' 'echinoderm' 'edentate' 'elephant' 'equipment' 'fabric'\n",
      " 'feline' 'fish' 'flower' 'foodstuff' 'frog' 'fungus' 'furniture'\n",
      " 'geological_formation' 'hay' 'implement' 'insect' 'leporid' 'litter'\n",
      " 'marsupial' 'maze' 'menu' 'mollusk' 'monotreme' 'musteline_mammal'\n",
      " 'natural_object' 'nutriment' 'person' 'pillow' 'prayer_rug' 'primate'\n",
      " 'procyonid' 'public_transport' 'rodent' 'salamander' 'stage' 'street_sign'\n",
      " 'structure' 'tableware' 'teddy' 'toilet_tissue' 'toiletry' 'traffic_light'\n",
      " 'trilobite' 'turtle' 'tusker' 'ungulate' 'vegetable' 'vehicle' 'viverrine'\n",
      " 'worm']\n"
     ]
    }
   ],
   "source": [
    "constructed_labels = numpy.loadtxt('../3_level_labels/csv/longest_path/constructed_labels.csv', dtype = 'str', delimiter = ',')\n",
    "\n",
    "level_1_labels = numpy.sort(list(set(constructed_labels[:, 2])))\n",
    "\n",
    "print '\\nNumber of level 1 labels :', len(level_1_labels)\n",
    "print '\\nLabels :', level_1_labels\n",
    "\n",
    "numpy.savetxt('./level_1_labels.txt', level_1_labels, fmt='%s')\n",
    "\n",
    "indexes = range(len(level_1_labels))\n",
    "\n",
    "numpy.savetxt('./level_1_indexes.txt', indexes, fmt='%d')"
   ]
  },
  {
   "cell_type": "code",
   "execution_count": null,
   "metadata": {
    "collapsed": true
   },
   "outputs": [],
   "source": [
    "node_names_read = numpy.loadtxt('../3_level_labels/csv/longest_path/constructed_node_names.txt', dtype = 'str')\n",
    "\n",
    "node_names = []\n",
    "\n",
    "for i in xrange(len(node_names_read)):\n",
    "    node_names.append(numpy.array(node_names_read[i].split(',')))\n",
    "\n",
    "node_names = numpy.array(node_names)"
   ]
  },
  {
   "cell_type": "code",
   "execution_count": 3,
   "metadata": {
    "collapsed": false
   },
   "outputs": [],
   "source": [
    "names = numpy.loadtxt('/home/jcmaxwell/ilsrvc2015/imagenet2015_onur/names.txt', dtype = 'str')\n",
    "labels = numpy.loadtxt('/home/jcmaxwell/ilsrvc2015/imagenet2015_onur/labels.txt', dtype = 'str')"
   ]
  },
  {
   "cell_type": "code",
   "execution_count": 4,
   "metadata": {
    "collapsed": false
   },
   "outputs": [],
   "source": [
    "level_1_indexes = []\n",
    "\n",
    "for l in level_1_labels:\n",
    "    level_1_indexes.append(set(([i for i in xrange(len(labels)) if any(node_names[i] == l)])))"
   ]
  },
  {
   "cell_type": "code",
   "execution_count": 6,
   "metadata": {
    "collapsed": false
   },
   "outputs": [],
   "source": [
    "train_old = numpy.loadtxt('/home/jcmaxwell/ilsrvc2015/imagenet2015_onur/train/train.txt', dtype = 'str', delimiter = ' ')\n",
    "\n",
    "train_new = []\n",
    "\n",
    "for i in xrange(len(train_old)):\n",
    "    for k in xrange(len(level_1_indexes)):\n",
    "        if int(train_old[i][1]) in level_1_indexes[k]:\n",
    "            train_new.append([train_old[i][0], k])\n",
    "            \n",
    "train_new = numpy.array(train_new)"
   ]
  },
  {
   "cell_type": "markdown",
   "metadata": {},
   "source": [
    "f = open('./level_1_train.txt', 'w')\n",
    "\n",
    "for t in train_new:\n",
    "    f.write(t[0] + ' ' + t[1])\n",
    "    f.write('\\n')\n",
    "    \n",
    "f.close()"
   ]
  },
  {
   "cell_type": "code",
   "execution_count": 12,
   "metadata": {
    "collapsed": true
   },
   "outputs": [],
   "source": [
    "val_old = numpy.loadtxt('/home/jcmaxwell/ilsrvc2015/imagenet2015_onur/validation/val.txt', dtype = 'str', delimiter = ' ')\n",
    "\n",
    "val_new = []\n",
    "\n",
    "for i in xrange(len(val_old)):\n",
    "    for k in xrange(len(level_1_indexes)):\n",
    "        if int(val_old[i][1]) in level_1_indexes[k]:\n",
    "            val_new.append([val_old[i][0], k])\n",
    "            \n",
    "val_new = numpy.array(val_new)"
   ]
  },
  {
   "cell_type": "markdown",
   "metadata": {},
   "source": [
    "f = open('./level_1_val.txt', 'w')\n",
    "\n",
    "for v in val_new:\n",
    "    f.write(v[0] + ' ' + v[1])\n",
    "    f.write('\\n')\n",
    "    \n",
    "f.close()"
   ]
  },
  {
   "cell_type": "code",
   "execution_count": null,
   "metadata": {
    "collapsed": true
   },
   "outputs": [],
   "source": []
  }
 ],
 "metadata": {
  "kernelspec": {
   "display_name": "Python 2",
   "language": "python",
   "name": "python2"
  },
  "language_info": {
   "codemirror_mode": {
    "name": "ipython",
    "version": 2
   },
   "file_extension": ".py",
   "mimetype": "text/x-python",
   "name": "python",
   "nbconvert_exporter": "python",
   "pygments_lexer": "ipython2",
   "version": "2.7.9"
  }
 },
 "nbformat": 4,
 "nbformat_minor": 0
}
