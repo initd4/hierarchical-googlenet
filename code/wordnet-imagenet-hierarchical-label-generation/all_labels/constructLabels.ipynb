{
 "cells": [
  {
   "cell_type": "code",
   "execution_count": 29,
   "metadata": {
    "collapsed": true
   },
   "outputs": [],
   "source": [
    "import numpy"
   ]
  },
  {
   "cell_type": "code",
   "execution_count": 4,
   "metadata": {
    "collapsed": false
   },
   "outputs": [],
   "source": [
    "level1_train = numpy.loadtxt('../caffe_layer1_labels/level_1_train.txt', delimiter = ' ', dtype = 'str')\n",
    "level2_train = numpy.loadtxt('../caffe_layer2_labels/level_2_train.txt', delimiter = ' ', dtype = 'str')\n",
    "level3_train = numpy.loadtxt('/home/jcmaxwell/ilsrvc2015/imagenet2015_onur/train/train.txt', delimiter = ' ', dtype = 'str')"
   ]
  },
  {
   "cell_type": "code",
   "execution_count": 5,
   "metadata": {
    "collapsed": false
   },
   "outputs": [],
   "source": [
    "level1_val = numpy.loadtxt('../caffe_layer1_labels/level_1_val.txt', delimiter = ' ', dtype = 'str')\n",
    "level2_val = numpy.loadtxt('../caffe_layer2_labels/level_2_val.txt', delimiter = ' ', dtype = 'str')\n",
    "level3_val = numpy.loadtxt('/home/jcmaxwell/ilsrvc2015/imagenet2015_onur/validation/val.txt', delimiter = ' ', dtype = 'str')"
   ]
  },
  {
   "cell_type": "code",
   "execution_count": 30,
   "metadata": {
    "collapsed": false
   },
   "outputs": [],
   "source": [
    "train = []\n",
    "\n",
    "for i in xrange(len(level1_train)):\n",
    "    train.append([level1_train[i, 0], level1_train[i, 1], level2_train[i, 1], level3_train[i, 1]])\n",
    "    \n",
    "train = numpy.array(train)"
   ]
  },
  {
   "cell_type": "code",
   "execution_count": 31,
   "metadata": {
    "collapsed": false
   },
   "outputs": [],
   "source": [
    "val = []\n",
    "\n",
    "for i in xrange(len(level1_val)):\n",
    "    val.append([level1_val[i, 0], level1_val[i, 1], level2_val[i, 1], level3_val[i, 1]])\n",
    "    \n",
    "val = numpy.array(val)"
   ]
  },
  {
   "cell_type": "code",
   "execution_count": 32,
   "metadata": {
    "collapsed": false
   },
   "outputs": [
    {
     "name": "stdout",
     "output_type": "stream",
     "text": [
      "['n02444819/n02444819_5158.JPEG' '42' '199' '211']\n",
      "['ILSVRC2012_val_00000001.JPEG' '18' '269' '489']\n"
     ]
    }
   ],
   "source": [
    "print train[0]\n",
    "print val[0]"
   ]
  },
  {
   "cell_type": "code",
   "execution_count": 33,
   "metadata": {
    "collapsed": true
   },
   "outputs": [],
   "source": [
    "numpy.random.shuffle(train)\n",
    "numpy.random.shuffle(val)"
   ]
  },
  {
   "cell_type": "code",
   "execution_count": 38,
   "metadata": {
    "collapsed": true
   },
   "outputs": [],
   "source": [
    "numpy.savetxt('./train.txt', train, fmt = '%s', delimiter = ' ')\n",
    "numpy.savetxt('./val.txt', val, fmt = '%s', delimiter = ' ')"
   ]
  },
  {
   "cell_type": "code",
   "execution_count": null,
   "metadata": {
    "collapsed": true
   },
   "outputs": [],
   "source": []
  }
 ],
 "metadata": {
  "kernelspec": {
   "display_name": "Python 2",
   "language": "python",
   "name": "python2"
  },
  "language_info": {
   "codemirror_mode": {
    "name": "ipython",
    "version": 2
   },
   "file_extension": ".py",
   "mimetype": "text/x-python",
   "name": "python",
   "nbconvert_exporter": "python",
   "pygments_lexer": "ipython2",
   "version": "2.7.9"
  }
 },
 "nbformat": 4,
 "nbformat_minor": 0
}
